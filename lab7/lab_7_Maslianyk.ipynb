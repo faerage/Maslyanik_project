{
 "cells": [
  {
   "cell_type": "markdown",
   "metadata": {},
   "source": [
    "---\n",
    "title: 'Лабораторна робота №7. Словники, кортежі. Обробка винятків (empty)'\n",
    "description:\n",
    "  Документ зроблено за допомогою [Quarto](https://quarto.org/)\n",
    "author: \"&copy; [Maslyanik Oleksandr](https://github.com/faerage), 2023\"\n",
    "date: \"30.10.2023\"\n",
    "lang: ukr\n",
    "format:\n",
    "  html:\n",
    "    code-fold: true\n",
    "    toc: true # меню\n",
    "    toc_float: # спливаюче меню  \n",
    "      collapsed: true # авто\n",
    "      number_sections: true\n",
    "jupyter: python3\n",
    "---"
   ]
  },
  {
   "cell_type": "markdown",
   "metadata": {},
   "source": [
    "__Мета:__ _навчитися працювати зі структурами даних Кортеж та Словник. Навчитись обробляти основні типи винятків_"
   ]
  },
  {
   "cell_type": "markdown",
   "metadata": {},
   "source": [
    "## Робота зі словниками"
   ]
  },
  {
   "cell_type": "markdown",
   "metadata": {},
   "source": [
    "### Завдання 1"
   ]
  },
  {
   "cell_type": "markdown",
   "metadata": {},
   "source": [
    "Напишіть програму, яка створює кортеж зі списку чисел, а потім виводить на екран всі числа, які менші за задане число `n`. Умова: користувач вводить число `n`, і   щоб створити новий список `result`, який містить всі числа з кортежу, які менші за `n`, реалізувати за допомогою генератора списків."
   ]
  },
  {
   "cell_type": "code",
   "execution_count": 1,
   "metadata": {
    "tags": []
   },
   "outputs": [
    {
     "name": "stdin",
     "output_type": "stream",
     "text": [
      "Введіть число n:  4\n"
     ]
    },
    {
     "name": "stdout",
     "output_type": "stream",
     "text": [
      "Числа менші за 4 з кортежу: (1, 2, 3)\n"
     ]
    }
   ],
   "source": [
    "numbers_list = [1, 2, 3, 4, 5, 6, 7, 8, 9]\n",
    "numbers_tuple = tuple(numbers_list)\n",
    "\n",
    "n = int(input(\"Введіть число n: \"))\n",
    "\n",
    "result = tuple(x for x in numbers_tuple if x < n)\n",
    "\n",
    "print(\"Числа менші за\", n, \"з кортежу:\", result)"
   ]
  },
  {
   "cell_type": "markdown",
   "metadata": {},
   "source": [
    "### Завдання 2\n",
    "Напишіть програму, яка створює кортеж з трьох елементів, які є рядками, та з'єднує їх в один рядок з комою як роздільником. Примітка: з'єднати рядки також можна за допомогою методу `.joint()`"
   ]
  },
  {
   "cell_type": "code",
   "execution_count": 2,
   "metadata": {
    "tags": []
   },
   "outputs": [
    {
     "name": "stdout",
     "output_type": "stream",
     "text": [
      "Рядок 1, Рядок 2, Рядок 3\n"
     ]
    }
   ],
   "source": [
    "tuple_of_strings = (\"Рядок 1\", \"Рядок 2\", \"Рядок 3\")\n",
    "\n",
    "result = ', '.join(tuple_of_strings)\n",
    "\n",
    "print(result)"
   ]
  },
  {
   "cell_type": "markdown",
   "metadata": {},
   "source": [
    "### Завдання 3 "
   ]
  },
  {
   "cell_type": "markdown",
   "metadata": {},
   "source": [
    "Створіть словник, який містить інформацію про книги в бібліотеці. Ключами будуть назви книг, а значеннями - автори, рік видання та кількість сторінок. Виведіть на екран інформацію про книгу, введену користувачем."
   ]
  },
  {
   "cell_type": "code",
   "execution_count": 4,
   "metadata": {
    "tags": []
   },
   "outputs": [
    {
     "name": "stdin",
     "output_type": "stream",
     "text": [
      "Введіть назву книги:  Книга 1\n"
     ]
    },
    {
     "name": "stdout",
     "output_type": "stream",
     "text": [
      "Інформація про книгу 'Книга 1':\n",
      "Автор: Автор 1\n",
      "Рік видання: 2020\n",
      "Кількість сторінок: 300\n"
     ]
    }
   ],
   "source": [
    "library_books = {\n",
    "    \"Книга 1\": {\"Автор\": \"Автор 1\", \"Рік видання\": 2020, \"Кількість сторінок\": 300},\n",
    "    \"Книга 2\": {\"Автор\": \"Автор 2\", \"Рік видання\": 2018, \"Кількість сторінок\": 250},\n",
    "    \"Книга 3\": {\"Автор\": \"Автор 3\", \"Рік видання\": 2019, \"Кількість сторінок\": 350},\n",
    "}\n",
    "\n",
    "book_title = input(\"Введіть назву книги: \")\n",
    "\n",
    "if book_title in library_books:\n",
    "    book_info = library_books[book_title]\n",
    "    print(f\"Інформація про книгу '{book_title}':\")\n",
    "    print(f\"Автор: {book_info['Автор']}\")\n",
    "    print(f\"Рік видання: {book_info['Рік видання']}\")\n",
    "    print(f\"Кількість сторінок: {book_info['Кількість сторінок']}\")\n",
    "else:\n",
    "    print(f\"Книги з назвою '{book_title}' немає у бібліотеці.\")"
   ]
  },
  {
   "cell_type": "markdown",
   "metadata": {},
   "source": [
    "## Сумісна робота зі словниками і кортежами"
   ]
  },
  {
   "cell_type": "markdown",
   "metadata": {},
   "source": [
    "### Завдання 4"
   ]
  },
  {
   "cell_type": "markdown",
   "metadata": {},
   "source": [
    "Напишіть програму, яка створює словник, що містить інформацію про студентів, використовуючи вказані кортежі в якості значень. Кожен ключ -- це прізвище студента. Виведіть на екран інформацію про студента, введеного користувачем."
   ]
  },
  {
   "cell_type": "code",
   "execution_count": 5,
   "metadata": {
    "tags": []
   },
   "outputs": [
    {
     "name": "stdin",
     "output_type": "stream",
     "text": [
      "Введіть прізвище студента:  Сидоренко\n"
     ]
    },
    {
     "name": "stdout",
     "output_type": "stream",
     "text": [
      "Інформація про студента Сидоренко:\n",
      "Ім'я: Степан\n",
      "Вік: 20\n",
      "Спеціальність: Комп'ютерні науки\n"
     ]
    }
   ],
   "source": [
    "students = {\n",
    "    \"Сидоренко\": (\"Степан\", 20, \"Комп'ютерні науки\"),\n",
    "    \"Ющенко\": (\"Вікторія\", 21, \"Інженерія програмного забеспечення\"),\n",
    "    \"Коваленко\": (\"Павло\", 19, \"Фізика\"),\n",
    "}\n",
    "\n",
    "student_surname = input(\"Введіть прізвище студента: \")\n",
    "\n",
    "if student_surname in students:\n",
    "    student_info = students[student_surname]\n",
    "    print(f\"Інформація про студента {student_surname}:\")\n",
    "    print(f\"Ім'я: {student_info[0]}\")\n",
    "    print(f\"Вік: {student_info[1]}\")\n",
    "    print(f\"Спеціальність: {student_info[2]}\")\n",
    "else:\n",
    "    print(f\"Студента з прізвищем '{student_surname}' немає у списку.\")"
   ]
  },
  {
   "cell_type": "markdown",
   "metadata": {},
   "source": [
    "### Завдання 5"
   ]
  },
  {
   "cell_type": "markdown",
   "metadata": {},
   "source": [
    "Створіть словник, який містить інформацію про більше, ніж один номер телефону для кожного з контактів в телефонній книзі. Ключами будуть імена контактів, а значеннями - список їхніх номерів телефонів. Напишіть функцію, яка дозволяє додати новий номер телефону до списку номерів телефону певного контакту. Потім виведіть на екран список номерів телефонів для всіх контактів."
   ]
  },
  {
   "cell_type": "code",
   "execution_count": 11,
   "metadata": {
    "tags": []
   },
   "outputs": [
    {
     "name": "stdout",
     "output_type": "stream",
     "text": [
      "Список номерів телефонів для всіх контактів:\n",
      "Сидоренко Степан: 123-456-789, 987-654-321\n",
      "Ющенко Вікторія: 111-222-333\n",
      "Коваленко Павло: 555-666-777, 444-333-222\n",
      "\n",
      "Оновлений список номерів телефонів для всіх контактів:\n",
      "Сидоренко Степан: 123-456-789, 987-654-321, 555-777-888\n",
      "Ющенко Вікторія: 111-222-333\n",
      "Коваленко Павло: 555-666-777, 444-333-222\n"
     ]
    }
   ],
   "source": [
    "phone_book = {\n",
    "    \"Сидоренко Степан\": [\"123-456-789\", \"987-654-321\"],\n",
    "    \"Ющенко Вікторія\": [\"111-222-333\"],\n",
    "    \"Коваленко Павло\": [\"555-666-777\", \"444-333-222\"],\n",
    "}\n",
    "\n",
    "def add_phone_number(contact, new_number):\n",
    "    if contact in phone_book:\n",
    "        phone_book[contact].append(new_number)\n",
    "    else:\n",
    "        phone_book[contact] = [new_number]\n",
    "\n",
    "print(\"Список номерів телефонів для всіх контактів:\")\n",
    "for contact, phone_numbers in phone_book.items():\n",
    "    print(f\"{contact}: {', '.join(phone_numbers)}\")\n",
    "\n",
    "add_phone_number(\"Сидоренко Степан\", \"555-777-888\")\n",
    "\n",
    "print(\"\\nОновлений список номерів телефонів для всіх контактів:\")\n",
    "for contact, phone_numbers in phone_book.items():\n",
    "    print(f\"{contact}: {', '.join(phone_numbers)}\")"
   ]
  },
  {
   "cell_type": "markdown",
   "metadata": {},
   "source": [
    "## Контрольні запитання\n",
    "\n",
    "1. Що виведе наступний код?\n",
    "\n",
    "```\n",
    "my_tuple = (1, 2, 3)\n",
    "print(my_tuple[1:])\n",
    "```\n",
    "\n",
    "- (2, 3)\n",
    "\n",
    "2. Що виведе наступний код?\n",
    "```\n",
    "my_dict = {'a': 1, 'b': 2, 'c': 3}\n",
    "print(my_dict.get('d', 4))\n",
    "```\n",
    "\n",
    "- 4\n",
    "\n",
    "3. Що виведе наступний код?\n",
    "```\n",
    "my_tuple = (1, 2, 3)\n",
    "my_tuple[0] = 4\n",
    "print(my_tuple)\n",
    "```\n",
    "\n",
    "- Помилку\n",
    "\n",
    "4. Що виведе наступний код?\n",
    "```\n",
    "my_dict = {'a': 1, 'b': 2, 'c': 3}\n",
    "my_dict.update({'d': 4})\n",
    "print(my_dict)\n",
    "```\n",
    "\n",
    "- {'a': 1, 'b': 2, 'c': 3, 'd': 4}"
   ]
  }
 ],
 "metadata": {
  "kernelspec": {
   "display_name": "Python 3 (ipykernel)",
   "language": "python",
   "name": "python3"
  },
  "language_info": {
   "codemirror_mode": {
    "name": "ipython",
    "version": 3
   },
   "file_extension": ".py",
   "mimetype": "text/x-python",
   "name": "python",
   "nbconvert_exporter": "python",
   "pygments_lexer": "ipython3",
   "version": "3.11.4"
  }
 },
 "nbformat": 4,
 "nbformat_minor": 4
}
