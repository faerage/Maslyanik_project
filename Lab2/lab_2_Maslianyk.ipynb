{
 "cells": [
  {
   "cell_type": "markdown",
   "metadata": {},
   "source": [
    "---\n",
    "title: \"Лабораторна робота №2. Функція `print()`\"\n",
    "description:\n",
    "  Документ зроблено за допомогою [Quarto](https://quarto.org/)\n",
    "author: \"&copy; [Maslyanik Oleksandr](https://github.com/faerage), 2023\"\n",
    "date: \"10.06.2023\"\n",
    "lang: ukr\n",
    "format:\n",
    "  html:\n",
    "    code-fold: true\n",
    "    toc: true # меню\n",
    "    toc_float: # спливаюче меню  \n",
    "      collapsed: true # авто\n",
    "      number_sections: true\n",
    "jupyter: python3\n",
    "---"
   ]
  },
  {
   "cell_type": "markdown",
   "metadata": {},
   "source": [
    "__Мета:__ _навчитися писати і запускати найпростіші програми на Python з використанням функції `print()`_"
   ]
  },
  {
   "cell_type": "markdown",
   "metadata": {},
   "source": [
    "## Порядок виконання"
   ]
  },
  {
   "cell_type": "markdown",
   "metadata": {},
   "source": [
    "1. Змінити код програми, щоби очикуваний результат виглядав наступним чином:"
   ]
  },
  {
   "cell_type": "markdown",
   "metadata": {},
   "source": [
    "`Programming***Essentials***in...Python`"
   ]
  },
  {
   "cell_type": "code",
   "execution_count": 4,
   "metadata": {
    "tags": []
   },
   "outputs": [
    {
     "name": "stdout",
     "output_type": "stream",
     "text": [
      "Programming***Essential***in...Python\n"
     ]
    }
   ],
   "source": [
    "print(\"Programming\",'*'*3, \"Essential\",'*'*3, \"in\",'.'*3, \"Python\", sep='')"
   ]
  },
  {
   "cell_type": "markdown",
   "metadata": {},
   "source": [
    "<!-- 2 --> "
   ]
  },
  {
   "cell_type": "markdown",
   "metadata": {},
   "source": [
    "2. Написати програму, яка виводила б на екран наступну картинку:"
   ]
  },
  {
   "attachments": {
    "image.png": {
     "image/png": "[encoded data removed]"
    }
   },
   "cell_type": "markdown",
   "metadata": {},
   "source": [
    "![](attachment:image.png)"
   ]
  },
  {
   "cell_type": "code",
   "execution_count": 29,
   "metadata": {
    "tags": []
   },
   "outputs": [
    {
     "name": "stdout",
     "output_type": "stream",
     "text": [
      "       *\n",
      "      * *\n",
      "     *   *\n",
      "    *     *\n",
      "   ***   ***\n",
      "      *  *\n",
      "      *  *\n",
      "      ****\n"
     ]
    }
   ],
   "source": [
    " for i in range(1, 8 + 1):\n",
    "        if i == 1:\n",
    "            print(\" \" * (8 - i) + \"*\")\n",
    "        elif i == 8:\n",
    "            print(\" \"*6 +\"*\"*3+\"*\")\n",
    "        elif i == 5:\n",
    "            print(\" \" * (8 - i) +\"*\"*3 + \" \" * (2 * i - 7) + \"*\"*3)\n",
    "        elif i < 5:\n",
    "            print(\" \" * (8 - i) +\"*\" + \" \" * (2 * i - 3) + \"*\")\n",
    "        else:\n",
    "            print(\" \"*6 +\"*\"+\" \"*2+\"*\")\n"
   ]
  },
  {
   "cell_type": "markdown",
   "metadata": {},
   "source": [
    "3. Вивести на екран наступний рядок:"
   ]
  },
  {
   "cell_type": "markdown",
   "metadata": {},
   "source": [
    "`I'm student`"
   ]
  },
  {
   "cell_type": "code",
   "execution_count": 30,
   "metadata": {
    "tags": []
   },
   "outputs": [
    {
     "name": "stdout",
     "output_type": "stream",
     "text": [
      "I'm student\n"
     ]
    }
   ],
   "source": [
    "print(\"I'm student\")"
   ]
  },
  {
   "cell_type": "markdown",
   "metadata": {},
   "source": [
    "4. Написати фрагмент кода в один рядок, використовуючи функцію `print()`, а також символи нового рядка та esсape-символи, щоби відповідати очикуваному результату, виведеному у трьох рядках: "
   ]
  },
  {
   "attachments": {
    "image-2.png": {
     "image/png": "[encoded data removed]"
    }
   },
   "cell_type": "markdown",
   "metadata": {},
   "source": [
    "![](attachment:image-2.png)"
   ]
  },
  {
   "cell_type": "code",
   "execution_count": 36,
   "metadata": {
    "tags": []
   },
   "outputs": [
    {
     "name": "stdout",
     "output_type": "stream",
     "text": [
      "\"I'm\"\n",
      "\"\"learning\"\"\n",
      "\"\"\"Python\"\"\"\n"
     ]
    }
   ],
   "source": [
    "print('\"I\\'m\"\\n\"\"learning\"\"\\n\"\"\"Python\"\"\"')"
   ]
  },
  {
   "cell_type": "markdown",
   "metadata": {},
   "source": [
    "5. Чому в десятковій системі дорівнює $500_8$? Написати код на Python."
   ]
  },
  {
   "cell_type": "code",
   "execution_count": 37,
   "metadata": {
    "tags": []
   },
   "outputs": [
    {
     "name": "stdout",
     "output_type": "stream",
     "text": [
      "320\n"
     ]
    }
   ],
   "source": [
    "print(0o500)"
   ]
  },
  {
   "cell_type": "markdown",
   "metadata": {},
   "source": [
    "6. Чому в десятковій системі дорівнює $777_{16}$? Написати код на Python."
   ]
  },
  {
   "cell_type": "code",
   "execution_count": 38,
   "metadata": {
    "tags": []
   },
   "outputs": [
    {
     "name": "stdout",
     "output_type": "stream",
     "text": [
      "1911\n"
     ]
    }
   ],
   "source": [
    "print(0x777)"
   ]
  },
  {
   "cell_type": "markdown",
   "metadata": {},
   "source": [
    "## Контрольні запитання\n",
    "\n",
    "1. Записати ієрархію операторів.\n",
    "* (): Парні дужки (групування).\n",
    "* **: Піднесення до ступеня.\n",
    "* *, /, %: Множення, ділення, залишок від ділення.\n",
    "* +, -: Додавання та віднімання.\n",
    "* <<, >>: Зсуви вліво та вправо (бітові операції).\n",
    "* &: Побітове І (бітове \"І\").\n",
    "* ^: Побітовий XOR (бітове виключне \"АБО\").\n",
    "* |: Побітове АБО (бітове \"АБО\").\n",
    "* <, <=, >, >=, !=, ==: Оператори порівняння.\n",
    "* not: Логічне НЕ.\n",
    "* and: Логічне І.\n",
    "* or: Логічне АБО.\n",
    "* if-else: Тернарний оператор (у форматі x if condition else y).\n",
    "* =, +=, -=, *=, /=, %=, **=, &=, ^=, |=: Оператори присвоювання та скороченого присвоєння.\n",
    "1. Записти на Python обчислення виразу $3^{3^4}$"
   ]
  },
  {
   "cell_type": "code",
   "execution_count": 39,
   "metadata": {
    "tags": []
   },
   "outputs": [
    {
     "name": "stdout",
     "output_type": "stream",
     "text": [
      "443426488243037769948249630619149892803\n"
     ]
    }
   ],
   "source": [
    "print(3 ** (3 ** 4))"
   ]
  },
  {
   "cell_type": "markdown",
   "metadata": {},
   "source": [
    "1. Що робить escape-символ \\n при виводі на екран функцією `print()`?\n",
    "* Escape-символ \\n вказує на переведення рядка (newline) і використовується для створення нового рядка або перехіду до наступного рядка"
   ]
  }
 ],
 "metadata": {
  "kernelspec": {
   "display_name": "Python 3 (ipykernel)",
   "language": "python",
   "name": "python3"
  },
  "language_info": {
   "codemirror_mode": {
    "name": "ipython",
    "version": 3
   },
   "file_extension": ".py",
   "mimetype": "text/x-python",
   "name": "python",
   "nbconvert_exporter": "python",
   "pygments_lexer": "ipython3",
   "version": "3.11.4"
  }
 },
 "nbformat": 4,
 "nbformat_minor": 4
}
