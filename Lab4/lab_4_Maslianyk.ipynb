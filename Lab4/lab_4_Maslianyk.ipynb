{
 "cells": [
  {
   "cell_type": "markdown",
   "metadata": {},
   "source": [
    "---\n",
    "title: \"Лабораторна робота №4. Логічні значення. Умовне виконання. Цикли\"\n",
    "description:\n",
    "  Документ зроблено за допомогою [Quarto](https://quarto.org/)\n",
    "author: \"&copy; [Maslyanik Oleksandr](https://github.com/faerage), 2023\"\n",
    "date: \"10.06.2023\"\n",
    "lang: ukr\n",
    "format:\n",
    "  html:\n",
    "    code-fold: true\n",
    "    toc: true # меню\n",
    "    toc_float: # спливаюче меню  \n",
    "      collapsed: true # авто\n",
    "      number_sections: true\n",
    "jupyter: python3\n",
    "---"
   ]
  },
  {
   "cell_type": "markdown",
   "metadata": {},
   "source": [
    "__Мета:__ _освоїти роботу з логічними змінними, операторами розгалуження та операторами циклів_"
   ]
  },
  {
   "cell_type": "markdown",
   "metadata": {},
   "source": [
    "## Оператори порівняння"
   ]
  },
  {
   "cell_type": "markdown",
   "metadata": {},
   "source": [
    "### Завдання 1\n",
    "\n",
    "Використовуючи один з операторів порівняння в Python, напишіть просту дворядкову програму, яка приймає як вхідні дані параметр `n`, який є цілим числом, і друкує `False`, якщо `n` менше `100` і `True`, якщо `n` більше або дорівнює `100`.  \n",
    "Не створюйте жодних блоків `if`. Протестуйте свій код, використовуючи дані, надані нижче."
   ]
  },
  {
   "cell_type": "code",
   "execution_count": 1,
   "metadata": {},
   "outputs": [
    {
     "name": "stdout",
     "output_type": "stream",
     "text": [
      "Введіть ціле число n: 55\n",
      "False\n"
     ]
    }
   ],
   "source": [
    "n = int(input(\"Введіть ціле число n: \"))\n",
    "result = n >= 100\n",
    "print(result)"
   ]
  },
  {
   "cell_type": "markdown",
   "metadata": {},
   "source": [
    "### Завдання 2\n",
    "\n",
    "Написати програму визначення найбільшого з двох дійсних чисел, використовуючи констуркцію `if-else`."
   ]
  },
  {
   "cell_type": "code",
   "execution_count": 2,
   "metadata": {},
   "outputs": [
    {
     "name": "stdout",
     "output_type": "stream",
     "text": [
      "Введіть перше дійсне число: 55\n",
      "Введіть друге дійсне число: 12\n",
      "Найбільше число: 55.0\n"
     ]
    }
   ],
   "source": [
    "number1 = float(input(\"Введіть перше дійсне число: \"))\n",
    "number2 = float(input(\"Введіть друге дійсне число: \"))\n",
    "\n",
    "if number1 > number2:\n",
    "    largest = number1\n",
    "else:\n",
    "    largest = number2\n",
    "\n",
    "print(\"Найбільше число:\", largest)"
   ]
  },
  {
   "cell_type": "markdown",
   "metadata": {},
   "source": [
    "###  Завдання 3"
   ]
  },
  {
   "cell_type": "markdown",
   "metadata": {},
   "source": [
    "## Конструкції `if-else` та `if-elif-else`"
   ]
  },
  {
   "cell_type": "markdown",
   "metadata": {},
   "source": [
    "Спатифіллум, більш відомий як лілія світу або біле вітрило, є одним з найпопулярніших кімнатних рослин, що фільтрують шкідливі токсини з повітря. Деякі з токсинів, які він нейтралізує, включають бензол, формальдегід та аміак.\n",
    "\n",
    "Уявіть, що ваша комп'ютерна програма любить ці рослини. Щоразу, коли вона отримує введення у вигляді слова Spathiphyllum, вона мимоволі вигукує в консоль наступний рядок: \"Spathiphyllum is the best plant ever!\"\n",
    "\n",
    "\n",
    "Напишіть програму, яка використовує концепцію умовного виконання, приймає рядок як вхідні дані та:\n",
    "\n",
    "* виводить на екран пропозицію \"Yes - Spathiphyllum is the best plant ever!\", якщо введений рядок - \"Spathiphyllum\" (верхній регістр)\n",
    "* друкує \"No, I want a big Spathiphyllum!\", якщо введений рядок - \"spathiphyllum\" (у нижньому регістрі)\n",
    "виводить \"Spathiphyllum! Not [input]!\" в іншому випадку.  \n",
    "__Примітка.__ [input] - це рядок, прийнятий як вхідний.\n",
    "\n",
    "Протестуйте свій код, використовуючи дані, які надано нижче."
   ]
  },
  {
   "cell_type": "code",
   "execution_count": 3,
   "metadata": {},
   "outputs": [
    {
     "name": "stdout",
     "output_type": "stream",
     "text": [
      "Введіть рядок: Spathiphyllum\n",
      "Yes - Spathiphyllum is the best plant ever!\n"
     ]
    }
   ],
   "source": [
    "user_input = input(\"Введіть рядок: \")\n",
    "\n",
    "\n",
    "if user_input == \"Spathiphyllum\":\n",
    "    print(\"Yes - Spathiphyllum is the best plant ever!\")\n",
    "elif user_input == \"spathiphyllum!\":\n",
    "    print(\"No, I want a big Spathiphyllum!\")\n",
    "else:\n",
    "    print(f\"Spathiphyllum! Not {user_input}!\")"
   ]
  },
  {
   "cell_type": "markdown",
   "metadata": {},
   "source": [
    "### Завдання 4"
   ]
  },
  {
   "cell_type": "markdown",
   "metadata": {},
   "source": [
    "Жила-була земля -- земля молока та меду, населена щасливими та заможними людьми. Звісно, люди платили податки – їх щастя мало межі. Найважливіший податок, так званий податок на доходи фізичних осіб (скорочено ПДФО), повинен був сплачуватись один раз на рік та оцінювався за таким правилом:\n",
    "\n",
    "* якщо дохід громадянина не перевищував 85528 талерів, податок становив 18% від доходу мінус 556 талерів і 2 центи (це було те, що вони називали податковими пільгами)  \n",
    "* якщо дохід був вищим за цю суму, податок становив 14 839 талерів 2 центи плюс 32% надлишку понад 85 528 талерів.  \n",
    "Ваше завдання – написати калькулятор податків.\n",
    "\n",
    "Він повинен приймати одне значення з плаваючою комою: дохід.\n",
    "Потім він має вивести розрахований податок, заокруглений до повних талерів. Є функція з ім'ям `ound()`, яка виконуватиме заокруглення за вас -- ви знайдете її в скелетному коді нижче.  \n",
    "__Примітка:__ ця щаслива країна ніколи не повертала своїм громадянам грошей. Якщо розрахований податок був меншим за нуль, це означало б тільки повну відсутність податку (податок дорівнював нулю). Врахуйте це під час розрахунків.\n",
    "\n",
    "Подивіться на код нижче - він зчитує лише одне вхідне значення та виводить результат, тому вам потрібно завершити його деякими розумними обчисленнями.\n",
    "\n",
    "Протестуйте свій код, використовуючи тестові дані, наведені нижче."
   ]
  },
  {
   "cell_type": "code",
   "execution_count": 4,
   "metadata": {},
   "outputs": [
    {
     "name": "stdout",
     "output_type": "stream",
     "text": [
      "Введіть річний дохід: 10000\n",
      "Податок становить: 1244 талерів\n"
     ]
    }
   ],
   "source": [
    "income = float(input(\"Введіть річний дохід: \"))\n",
    "\n",
    "if income <= 85528:\n",
    "    tax = income * 0.18 - 556.02\n",
    "else:\n",
    "    tax = 14839.02 + (income - 85528) * 0.32\n",
    "\n",
    "if tax < 0:\n",
    "    tax = 0\n",
    "\n",
    "rounded_tax = round(tax)\n",
    "\n",
    "print(\"Податок становить:\", rounded_tax, \"талерів\")"
   ]
  },
  {
   "cell_type": "markdown",
   "metadata": {},
   "source": [
    "### Завдання 5"
   ]
  },
  {
   "cell_type": "markdown",
   "metadata": {},
   "source": [
    "Як ви, напевно, знаєте, з деяких астрономічних причин роки можуть бути високосними або звичайними. Перші тривають 366 днів, а другі – 365 днів.\n",
    "\n",
    "З моменту введення григоріанського календаря (1582) для визначення року використовується наступне правило:\n",
    "\n",
    "* якщо номер року не ділиться на чотири, це звичайний рік;\n",
    "* в іншому випадку, якщо номер року не ділиться на 100, це високосний рік;\n",
    "* в іншому випадку, якщо номер року не ділиться на 400, це звичайний рік;\n",
    "* інакше це високосний рік.  \n",
    "\n",
    "Подивіться на код у редакторі -- він читає лише номер року і має бути доповнений інструкціями, що реалізують тест, який описаний вище.\n",
    "\n",
    "Код має виводити одне з двох можливих повідомлень: `Leap year` або `Common year`, залежно від введеного значення.\n",
    "\n",
    "Було б добре перевірити, чи належить введений рік до григоріанської ери, і вивести попередження інакше: `Not within the Gregorian calendar period.`  \n",
    "\n",
    "__Підказка:__ використовуйте оператори `!=` та `%`.\n",
    "\n",
    "Протестуйте свій код, використовуючи надані нами дані."
   ]
  },
  {
   "cell_type": "code",
   "execution_count": 1,
   "metadata": {},
   "outputs": [
    {
     "name": "stdin",
     "output_type": "stream",
     "text": [
      "Введіть номер року:  2000\n"
     ]
    },
    {
     "name": "stdout",
     "output_type": "stream",
     "text": [
      "Leap year\n"
     ]
    }
   ],
   "source": [
    "year = int(input(\"Введіть номер року: \"))\n",
    "\n",
    "\n",
    "if year < 1582:\n",
    "    print(\"Not within the Gregorian calendar period.\")\n",
    "else:\n",
    "    if (year % 4 == 0 and year % 100 != 0) or (year % 400 == 0):\n",
    "        print(\"Leap year\")\n",
    "    else:\n",
    "        print(\"Common year\")"
   ]
  },
  {
   "cell_type": "markdown",
   "metadata": {},
   "source": [
    "## Організація циклів за допомогою `while`"
   ]
  },
  {
   "cell_type": "markdown",
   "metadata": {},
   "source": [
    "### Завдання 6 "
   ]
  },
  {
   "cell_type": "markdown",
   "metadata": {},
   "source": [
    "Молодший чарівник вибрав таємне число. Він сховав його в змінну з ім'ям `secret_number`. Він хоче, щоб кожен, хто запускає його програму, грав у гру _Вгадай секретний номер_ і вгадав, яке число він вибрав для них. Ті, хто не вгадає число, назавжди застрянуть у нескінченній петлі! На жаль, він не знає, як завершити код.\n",
    "\n",
    "Ваше завдання допомогти фокуснику доповнити код у редакторі таким чином, щоб код:\n",
    "\n",
    "* попросив користувача ввести ціле число;\n",
    "* використовувавши цикл `while`;\n",
    "* перевірити, чи включає введене користувачем число з числом, вибраним фокусником. Якщо число, обране користувачем, відрізняється від секретного числа чарівника, користувач повинен побачити повідомлення `\"Ха-ха! Ви застрягли у моїй петлі!\"` і отримати запит на повторне введення числа. Якщо число, введене користувачем, співпадає з числом, вибраним фокусником, число має бути надруковане на екрані, і фокусник повинен вимовити наступне слово: `«Молодець, магле! Тепер ти вільний»`. \n",
    "\n",
    "Чарівник розраховує на Вас! Не розчаровуйте його.\n",
    "\n",
    "\n",
    "ДОДАТКОВА ІНФОРМАЦІЯ\n",
    "\n",
    "До речі, подивитесь на функцію `print()`. Те, як ми це використовували тут, називається багаторядковим друком. Ви можете використовувати три кавички для друку рядка в кількох рядках, щоб текст був легшим для читання, або для створення спеціального текстового дизайну. Поекспериментуйте з цим."
   ]
  },
  {
   "cell_type": "code",
   "execution_count": 2,
   "metadata": {},
   "outputs": [
    {
     "name": "stdout",
     "output_type": "stream",
     "text": [
      "\n",
      "+================================+\n",
      "| Welcome to my game, muggle!    |\n",
      "| Enter an integer number        |\n",
      "| and guess what number I've     |\n",
      "| picked for you.                |\n",
      "| So, what is the secret number? |\n",
      "+================================+\n",
      "\n"
     ]
    },
    {
     "name": "stdin",
     "output_type": "stream",
     "text": [
      "Введіть ціле число:  3\n"
     ]
    },
    {
     "name": "stdout",
     "output_type": "stream",
     "text": [
      "Ха-ха! Ви застрягли у моїй петлі!\n"
     ]
    },
    {
     "name": "stdin",
     "output_type": "stream",
     "text": [
      "Введіть ціле число:  465\n"
     ]
    },
    {
     "name": "stdout",
     "output_type": "stream",
     "text": [
      "Ха-ха! Ви застрягли у моїй петлі!\n"
     ]
    },
    {
     "name": "stdin",
     "output_type": "stream",
     "text": [
      "Введіть ціле число:  3\n"
     ]
    },
    {
     "name": "stdout",
     "output_type": "stream",
     "text": [
      "Ха-ха! Ви застрягли у моїй петлі!\n"
     ]
    },
    {
     "name": "stdin",
     "output_type": "stream",
     "text": [
      "Введіть ціле число:  12\n"
     ]
    },
    {
     "name": "stdout",
     "output_type": "stream",
     "text": [
      "Ха-ха! Ви застрягли у моїй петлі!\n"
     ]
    },
    {
     "name": "stdin",
     "output_type": "stream",
     "text": [
      "Введіть ціле число:  777\n"
     ]
    },
    {
     "name": "stdout",
     "output_type": "stream",
     "text": [
      "Молодець, магле! Тепер ти вільний\n"
     ]
    }
   ],
   "source": [
    "secret_number = 777\n",
    "\n",
    "print(\n",
    "\"\"\"\n",
    "+================================+\n",
    "| Welcome to my game, muggle!    |\n",
    "| Enter an integer number        |\n",
    "| and guess what number I've     |\n",
    "| picked for you.                |\n",
    "| So, what is the secret number? |\n",
    "+================================+\n",
    "\"\"\")\n",
    "\n",
    "while True:\n",
    "    user_input = input(\"Введіть ціле число: \")\n",
    "    \n",
    "    if user_input.isdigit():\n",
    "        user_number = int(user_input)\n",
    "        \n",
    "        if user_number == secret_number:\n",
    "            print(\"Молодець, магле! Тепер ти вільний\")\n",
    "            break\n",
    "        else:\n",
    "            print(\"Ха-ха! Ви застрягли у моїй петлі!\")\n",
    "    else:\n",
    "        print(\"Будь ласка, введіть ціле число.\")"
   ]
  },
  {
   "cell_type": "markdown",
   "metadata": {},
   "source": [
    "## Організація циклів за допомогою `for` "
   ]
  },
  {
   "cell_type": "markdown",
   "metadata": {},
   "source": [
    "### Завдання 7 "
   ]
  },
  {
   "cell_type": "markdown",
   "metadata": {},
   "source": [
    "Ви знаєте, що таке Міссісіпі? Ну, це назва одного зі штатів та річок у Сполучених Штатах. Довжина річки Міссісіпі становить близько 2340 миль, що робить її другою за довжиною річкою у Сполучених Штатах (найдовшою з них є річка Міссурі). Це так багато, що одній краплі води потрібно 90 днів, щоб пройти весь її шлях!\n",
    "\n",
    "Слово Міссісіпі також використовується для дещо іншої мети: для рахунку Міссісіпі.\n",
    "\n",
    "Якщо ви не знайомі з цією фразою, ми можемо пояснити вам, що вона означає: вона використовується для підрахунку секунд.\n",
    "\n",
    "Ідея полягає в тому, що додавання слова Міссісіпі до числа при підрахунку секунд вголос змушує рахунок бути хронологічно точніше, і, отже, вимова \"один Міссісіпі, два Міссісіпі, три Міссісіпі\" займе приблизно три секунди! Рахунок Міссісіпі часто використовують діти, які грають у хованки, щоб переконатися, що той, хто шукає чесно, підраховує час.\n",
    "\n",
    "Ваше завдання тут дуже просте: напишіть програму, яка використовує цикл `for` для «рахунку Міссісіпі» до п'яти. Порахувавши до п'яти, програма повинна вивести на екран фінальне повідомлення `\"Ready or not, here I come!\"`\n",
    "\n",
    "Використовуйте код, який ми надали у редакторі.\n",
    "\n",
    "ДОДАТКОВА ІНФОРМАЦІЯ\n",
    "\n",
    "Зверніть увагу, що код редактора містить два елементи, які можуть бути наразі вам не зовсім зрозумілі: оператор `import time` і метод `sleep()`. Ми незабаром про них поговоримо.\n",
    "\n",
    "Наразі ми просто хотіли, щоб ви знали, що ми імпортували модуль `time` і використовували метод `sleep()` для припинення виконання кожної наступної функції `print()` всередині циклу `for` на одну секунду, щоб повідомлення, яке виводиться на консоль, було схоже на фактичний підрахунок."
   ]
  },
  {
   "cell_type": "code",
   "execution_count": 3,
   "metadata": {},
   "outputs": [
    {
     "name": "stdout",
     "output_type": "stream",
     "text": [
      "1 Mississippi\n",
      "2 Mississippi\n",
      "3 Mississippi\n",
      "4 Mississippi\n",
      "5 Mississippi\n",
      "Ready or not, here I come!\n"
     ]
    }
   ],
   "source": [
    "import time\n",
    "\n",
    "for i in range(1, 6):\n",
    "    print(i, \"Mississippi\")\n",
    "    time.sleep(1)\n",
    "\n",
    "print(\"Ready or not, here I come!\")"
   ]
  },
  {
   "cell_type": "markdown",
   "metadata": {},
   "source": [
    "## Оператори `break` і `continue` "
   ]
  },
  {
   "cell_type": "markdown",
   "metadata": {},
   "source": [
    "### Завдання 8 "
   ]
  },
  {
   "cell_type": "markdown",
   "metadata": {},
   "source": [
    "Оператор `break` використовується для завершення/виходу з циклу.\n",
    "\n",
    "Розробте програму, яка використовує цикл `while` і постійно просить користувача ввести слово, якщо користувач не вводить `\"chupacabra\"` як секретне вихідне слово, і в цьому випадку повідомлення `\"You've successfully left the loop.\"` має бути виведений на екран, а цикл має завершитись.\n",
    "\n",
    "Не друкуйте жодне із введених користувачем слів. Використовуйте концепцію умовного виконання та інструкцію `break`."
   ]
  },
  {
   "cell_type": "code",
   "execution_count": 4,
   "metadata": {},
   "outputs": [
    {
     "name": "stdin",
     "output_type": "stream",
     "text": [
      "Введіть слово:  wef\n",
      "Введіть слово:  hreth\n",
      "Введіть слово:  chupacabra\n"
     ]
    },
    {
     "name": "stdout",
     "output_type": "stream",
     "text": [
      "You've successfully left the loop.\n"
     ]
    }
   ],
   "source": [
    "while True:\n",
    "    user_input = input(\"Введіть слово: \")\n",
    "    if user_input == \"chupacabra\":\n",
    "        print(\"You've successfully left the loop.\")\n",
    "        break"
   ]
  },
  {
   "cell_type": "markdown",
   "metadata": {},
   "source": [
    "### Завдання 9"
   ]
  },
  {
   "cell_type": "markdown",
   "metadata": {},
   "source": [
    "Оператор `continue` використовується для пропуску поточного блоку та переходу до наступної ітерації без виконання операторів усередині циклу.\n",
    "\n",
    "Його можна використовувати з циклами `while` та `for`.\n",
    "\n",
    "Ваше завдання тут особливе: Ви повинні створити пожирача голосних! Напишіть програму, яка використовує:\n",
    "\n",
    "* цикл `for`;\n",
    "* концепцію умовного виконання (`if-elif-else`)\n",
    "* оператор `continue`.  \n",
    "\n",
    "Ваша програма повинна:\n",
    "\n",
    "* попросити користувача ввести слово;\n",
    "* використовувати `user_word = user_word.upper()`, щоб перетворити слово, введене користувачем, у верхній регістр; ми  поговоримо про рядкові методи та метод `upper()` у наступних лекціях;\n",
    "* використовуйте умовне виконання та оператор `continue`, щоб \"з'їсти\" наступні голосні `A`, `E`, `I`, `O`, `U` у введеному слові;\n",
    "* виведіть на екран нез'їдені літери, кожну в окремому рядку.\n",
    "\n",
    "Протестуйте свою програму з даними, які надані нижче."
   ]
  },
  {
   "cell_type": "code",
   "execution_count": 5,
   "metadata": {},
   "outputs": [
    {
     "name": "stdin",
     "output_type": "stream",
     "text": [
      "Введіть слово:  Ananas\n"
     ]
    },
    {
     "name": "stdout",
     "output_type": "stream",
     "text": [
      "N\n",
      "N\n",
      "S\n"
     ]
    }
   ],
   "source": [
    "user_word = input(\"Введіть слово: \")\n",
    "\n",
    "user_word = user_word.upper()\n",
    "\n",
    "result_word = \"\"\n",
    "\n",
    "for letter in user_word:\n",
    "    if letter in \"AEIOU\":\n",
    "        continue\n",
    "    else:\n",
    "        result_word += letter\n",
    "\n",
    "for letter in result_word:\n",
    "    print(letter)"
   ]
  },
  {
   "cell_type": "markdown",
   "metadata": {},
   "source": [
    "### Завдання 10"
   ]
  },
  {
   "cell_type": "markdown",
   "metadata": {},
   "source": [
    "Ваше завдання тут ще особливіше, ніж раніше: Ви повинні переробити (потворного) пожирача голосних із попереднього завдання і створити кращого, покращеного (красивого) пожирача голосних! Напишіть програму, яка використовує:\n",
    "\n",
    "* цикл `for`;\n",
    "* концепцію умовного виконання (`if-elif-else`)\n",
    "* оператор `continue`.\n",
    "\n",
    "Ваша програма повинна:\n",
    "\n",
    "* попросити користувача ввести слово;\n",
    "* використовувати `user_word = user_word.upper()`, щоб перетворити слово, введене користувачем, у верхній регістр; * використовувати умовне виконання та оператор `continue` , щоб \"з'їсти\" наступні голосні `A, E, I, O, U` від введеного слова;\n",
    "* присвоїти нез'їдені літери змінної `word_without_vowels` та вивести змінну на екран.\n",
    "\n",
    "Подивіться код нижче. Ми створили `word_without_vowels` і надали йому порожній рядок. Використовуйте операцію конкатенації, щоб попросити Python об'єднати вибрані літери у довший рядок у наступних ітераціях циклу та призначити її змінною `word_without_vowels`.\n",
    "\n",
    "Протестуйте свою програму з даними, які ми надали."
   ]
  },
  {
   "cell_type": "code",
   "execution_count": 6,
   "metadata": {},
   "outputs": [
    {
     "name": "stdin",
     "output_type": "stream",
     "text": [
      "Введіть слово:  Ananas\n"
     ]
    },
    {
     "name": "stdout",
     "output_type": "stream",
     "text": [
      "NNS\n"
     ]
    }
   ],
   "source": [
    "word_without_vowels = \"\"\n",
    "\n",
    "user_word = input(\"Введіть слово: \")\n",
    "\n",
    "user_word = user_word.upper()\n",
    "\n",
    "\n",
    "for letter in user_word:\n",
    "    if letter in \"AEIOU\":\n",
    "        continue\n",
    "    else:\n",
    "        word_without_vowels += letter\n",
    "\n",
    "print(word_without_vowels)\n"
   ]
  },
  {
   "cell_type": "markdown",
   "metadata": {},
   "source": [
    "### Завдання 11"
   ]
  },
  {
   "cell_type": "markdown",
   "metadata": {},
   "source": [
    "Послухайте цю історію: хлопчик та його батько, програміст, грають із дерев'яними кубиками. Вони будують піраміду (рис. 1).\n",
    "\n",
    "Їхня піраміда трохи дивна, тому що насправді це стіна у формі піраміди -- вона плоска. Піраміда складається за одним простим принципом: кожен нижній шар містить на один блок більше, ніж шар вище.\n",
    "\n",
    "На рис. 1 показано правило, що використовується будівельниками:"
   ]
  },
  {
   "attachments": {
    "a41b02e3-9575-4e30-949d-2a3d3a0cdd64.png": {
     "image/png": "[encoded data removed]"
    }
   },
   "cell_type": "markdown",
   "metadata": {},
   "source": [
    "![Рис. 1](attachment:a41b02e3-9575-4e30-949d-2a3d3a0cdd64.png)"
   ]
  },
  {
   "cell_type": "markdown",
   "metadata": {},
   "source": [
    "Ваше завдання – написати програму, яка зчитує кількість блоків, що є у будівельників, та виводить висоту піраміди, яку можна побудувати з цих блоків.\n",
    "\n",
    "__Примітка:__ висота вимірюється кількістю повністю завершених шарів –- якщо будівельники не мають достатньої кількості блоків та не можуть завершити наступний шар, вони негайно закінчують свою роботу.\n",
    "\n",
    "Протестуйте свій код, використовуючи надані нами дані."
   ]
  },
  {
   "cell_type": "code",
   "execution_count": 8,
   "metadata": {},
   "outputs": [
    {
     "name": "stdin",
     "output_type": "stream",
     "text": [
      "Введіть кількість блоків:  6\n"
     ]
    },
    {
     "name": "stdout",
     "output_type": "stream",
     "text": [
      "Максимальна висота піраміди, яку можна побудувати з 3 блоків, дорівнює 2 повним шарам.\n"
     ]
    }
   ],
   "source": [
    "blocks = int(input(\"Введіть кількість блоків: \"))\n",
    "height = 0\n",
    "\n",
    "while blocks >= (height + 1) * (height + 1):\n",
    "    height += 1\n",
    "    blocks -= height * height\n",
    "\n",
    "print(\"Максимальна висота піраміди, яку можна побудувати з\", blocks + height, \"блоків, дорівнює\", height, \"повним шарам.\")"
   ]
  },
  {
   "cell_type": "markdown",
   "metadata": {},
   "source": [
    "### Завдання 12"
   ]
  },
  {
   "cell_type": "markdown",
   "metadata": {},
   "source": [
    "1937 року німецький математик Лотар Коллатц сформулював інтригуючу гіпотезу (вона досі не доведена), яку можна описати так:\n",
    "\n",
    "* візьміть будь-яке невід'ємне та ненульове ціле число та назвіть його `c0`;\n",
    "* якщо воно парне, обчисліть нове `c0` як `c0÷2`;\n",
    "* в іншому випадку, якщо воно непарне, висиліть нове `c0 `як `3 × c0 + 1`;\n",
    "* якщо `c0 ≠ 1`, поверніться до пункту 2.\n",
    "\n",
    "Гіпотеза свідчить, що незалежно від початкового значення `c0` воно завжди дорівнюватиме `1`.\n",
    "\n",
    "Звичайно, використання комп'ютера для доведення гіпотези для будь-якого натурального числа -- надзвичайно складне завдання (для цього може знадобитися навіть штучний інтелект), але ви можете використовувати Python для перевірки деяких окремих чисел. Можливо, Ви навіть знайдете те, що спростує гіпотезу.\n",
    "\n",
    "\n",
    "Напишіть програму, яка зчитує одне натуральне число і виконує вказані вище кроки до тих пір, поки `c0` залишається відмінним від `1`. Ми також хочемо, щоб ви підрахували кроки, необхідні для досягнення мети. Ваш код також повинен виводити усі проміжні значення `c0`.\n",
    "\n",
    "Підказка: найважливіша частина проблеми –- як перетворити ідею Коллатца на цикл `while` – це ключ до успіху.\n",
    "\n",
    "Протестуйте свій код, використовуючи надані нами дані."
   ]
  },
  {
   "cell_type": "code",
   "execution_count": 9,
   "metadata": {},
   "outputs": [
    {
     "name": "stdin",
     "output_type": "stream",
     "text": [
      "Введіть натуральне число:  324\n"
     ]
    },
    {
     "name": "stdout",
     "output_type": "stream",
     "text": [
      "162\n",
      "81\n",
      "244\n",
      "122\n",
      "61\n",
      "184\n",
      "92\n",
      "46\n",
      "23\n",
      "70\n",
      "35\n",
      "106\n",
      "53\n",
      "160\n",
      "80\n",
      "40\n",
      "20\n",
      "10\n",
      "5\n",
      "16\n",
      "8\n",
      "4\n",
      "2\n",
      "1\n",
      "Кількість кроків: 24\n"
     ]
    }
   ],
   "source": [
    "c0 = int(input(\"Введіть натуральне число: \"))\n",
    "steps = 0\n",
    "\n",
    "while c0 != 1:\n",
    "    if c0 % 2 == 0:\n",
    "        c0 //= 2\n",
    "    else:\n",
    "        c0 = 3 * c0 + 1\n",
    "    steps += 1\n",
    "    print(c0)\n",
    "\n",
    "print(\"Кількість кроків:\", steps)"
   ]
  },
  {
   "cell_type": "code",
   "execution_count": null,
   "metadata": {},
   "outputs": [],
   "source": []
  }
 ],
 "metadata": {
  "kernelspec": {
   "display_name": "Python 3 (ipykernel)",
   "language": "python",
   "name": "python3"
  },
  "language_info": {
   "codemirror_mode": {
    "name": "ipython",
    "version": 3
   },
   "file_extension": ".py",
   "mimetype": "text/x-python",
   "name": "python",
   "nbconvert_exporter": "python",
   "pygments_lexer": "ipython3",
   "version": "3.11.4"
  }
 },
 "nbformat": 4,
 "nbformat_minor": 4
}
